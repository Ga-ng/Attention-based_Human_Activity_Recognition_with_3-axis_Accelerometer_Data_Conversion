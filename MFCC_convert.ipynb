{
 "cells": [
  {
   "cell_type": "code",
   "execution_count": 1,
   "id": "8e65479f",
   "metadata": {},
   "outputs": [],
   "source": [
    "import numpy as np\n",
    "import os\n",
    "import cv2\n",
    "import pandas as pd\n",
    "import librosa\n",
    "import shutil"
   ]
  },
  {
   "cell_type": "code",
   "execution_count": 2,
   "id": "814e4297",
   "metadata": {},
   "outputs": [],
   "source": [
    "root = '../dataset_2020/'"
   ]
  },
  {
   "cell_type": "code",
   "execution_count": 3,
   "id": "dea96ca7",
   "metadata": {},
   "outputs": [],
   "source": [
    "def acc_mfcc(X, Y, Z):\n",
    "    X = np.array(X)\n",
    "    Y = np.array(Y)\n",
    "    Z = np.array(Z)\n",
    "    \n",
    "    acc_mag = np.sqrt(np.sum((X**2, Y**2, Z**2), axis=0))\n",
    "    n = len(acc_mag)\n",
    "    sr = 16000\n",
    "    D = np.abs(librosa.stft(acc_mag, n_fft = 2048, win_length = 2048, hop_length = 512))\n",
    "    mfcc = librosa.feature.mfcc(S = librosa.power_to_db(D), sr = sr, n_mfcc = 20)\n",
    "    return mfcc"
   ]
  },
  {
   "cell_type": "code",
   "execution_count": 4,
   "outputs": [
    {
     "data": {
      "text/plain": "['user11-12', 'user26-30', 'user07-10', 'user01-06', 'user21-25']"
     },
     "execution_count": 4,
     "metadata": {},
     "output_type": "execute_result"
    }
   ],
   "source": [
    "userdir1 = os.listdir(root)\n",
    "userdir1"
   ],
   "metadata": {
    "collapsed": false
   }
  },
  {
   "cell_type": "code",
   "execution_count": 9,
   "outputs": [],
   "source": [
    "import warnings\n",
    "warnings.filterwarnings(action='ignore')"
   ],
   "metadata": {
    "collapsed": false
   }
  },
  {
   "cell_type": "code",
   "execution_count": 10,
   "id": "c5cacd42",
   "metadata": {},
   "outputs": [
    {
     "ename": "NameError",
     "evalue": "name 'f' is not defined",
     "output_type": "error",
     "traceback": [
      "\u001B[0;31m---------------------------------------------------------------------------\u001B[0m",
      "\u001B[0;31mNameError\u001B[0m                                 Traceback (most recent call last)",
      "Input \u001B[0;32mIn [10]\u001B[0m, in \u001B[0;36m<cell line: 38>\u001B[0;34m()\u001B[0m\n\u001B[1;32m     33\u001B[0m                 cv2\u001B[38;5;241m.\u001B[39mimwrite(fn, mfcc_feature)\n\u001B[1;32m     34\u001B[0m                 \u001B[38;5;66;03m# wr.writerow([fn, label])\u001B[39;00m\n\u001B[1;32m     35\u001B[0m             \u001B[38;5;66;03m#l = list(df['actionOption'])\u001B[39;00m\n\u001B[1;32m     36\u001B[0m             \u001B[38;5;66;03m#label.extend(l)\u001B[39;00m\n\u001B[0;32m---> 38\u001B[0m \u001B[43mf\u001B[49m\u001B[38;5;241m.\u001B[39mclose()\n",
      "\u001B[0;31mNameError\u001B[0m: name 'f' is not defined"
     ]
    }
   ],
   "source": [
    "for d in userdir1:\n",
    "    user_list = os.listdir(os.path.join(root, d))\n",
    "    for user in user_list:\n",
    "        path = os.path.join(root, d, str(user))\n",
    "        data_list = os.listdir(path)\n",
    "        for data in data_list:\n",
    "            if data.endswith('.csv'):\n",
    "                continue\n",
    "            data_path = os.path.join(path, str(data))\n",
    "            if not os.path.exists(data_path + '/mfcc/'):\n",
    "                os.mkdir(data_path + '/mfcc/')\n",
    "            else:\n",
    "                shutil.rmtree(data_path + '/mfcc/')\n",
    "                os.mkdir(data_path + '/mfcc/')\n",
    "            label_name = os.path.join(data_path, data + '_label.csv')\n",
    "            df = pd.read_csv(label_name)\n",
    "            element = sorted(list(map(int, list(df['ts']))))\n",
    "            for e in element:\n",
    "                e4_path = os.path.join(data_path, 'e4Acc', str(e) + '.csv')\n",
    "                if not os.path.isfile(e4_path):\n",
    "                    idx = df[df['ts']==e].index\n",
    "                    df = df.drop(idx)\n",
    "                    continue\n",
    "                df2 = pd.read_csv(e4_path)\n",
    "                X = list(df2['x'])\n",
    "                Y = list(df2['y'])\n",
    "                Z = list(df2['z'])\n",
    "                mfcc_feature = acc_mfcc(X, Y, Z)\n",
    "                fn = os.path.join(data_path, 'mfcc', str(e) + '.jpeg')\n",
    "                label = df[df['ts']==e]['actionOption'].values[0]\n",
    "                cv2.imwrite(fn, mfcc_feature)"
   ]
  }
 ],
 "metadata": {
  "kernelspec": {
   "display_name": "Python 3 (ipykernel)",
   "language": "python",
   "name": "python3"
  },
  "language_info": {
   "codemirror_mode": {
    "name": "ipython",
    "version": 3
   },
   "file_extension": ".py",
   "mimetype": "text/x-python",
   "name": "python",
   "nbconvert_exporter": "python",
   "pygments_lexer": "ipython3",
   "version": "3.9.0"
  }
 },
 "nbformat": 4,
 "nbformat_minor": 5
}
